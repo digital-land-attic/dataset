{
 "cells": [
  {
   "cell_type": "markdown",
   "metadata": {},
   "source": [
    "## Testing the local plan data"
   ]
  },
  {
   "cell_type": "code",
   "execution_count": 2,
   "metadata": {},
   "outputs": [],
   "source": [
    "import pandas as pd"
   ]
  },
  {
   "cell_type": "code",
   "execution_count": 3,
   "metadata": {},
   "outputs": [],
   "source": [
    "lps = pd.read_csv('https://raw.githubusercontent.com/digital-land/alpha-data/master/local-plans/development-plan.csv')"
   ]
  },
  {
   "cell_type": "code",
   "execution_count": 5,
   "metadata": {
    "tags": []
   },
   "outputs": [
    {
     "output_type": "stream",
     "name": "stdout",
     "text": "<class 'pandas.core.frame.DataFrame'>\nRangeIndex: 423 entries, 0 to 422\nData columns (total 12 columns):\n #   Column                 Non-Null Count  Dtype  \n---  ------                 --------------  -----  \n 0   description            0 non-null      float64\n 1   development-plan       423 non-null    object \n 2   development-plan-type  423 non-null    object \n 3   development-policies   0 non-null      float64\n 4   geographies            423 non-null    object \n 5   name                   404 non-null    object \n 6   notes                  93 non-null     object \n 7   organisations          423 non-null    object \n 8   end-date               0 non-null      float64\n 9   entry-date             0 non-null      float64\n 10  start-date             292 non-null    object \n 11  document-url           402 non-null    object \ndtypes: float64(4), object(8)\nmemory usage: 39.8+ KB\n"
    }
   ],
   "source": [
    "lps.info()"
   ]
  },
  {
   "cell_type": "code",
   "execution_count": 22,
   "metadata": {
    "tags": []
   },
   "outputs": [
    {
     "output_type": "execute_result",
     "data": {
      "text/plain": "description               0\ndevelopment-plan         19\ndevelopment-plan-type    19\ndevelopment-policies      0\ngeographies              19\nname                      0\nnotes                     0\norganisations            19\nend-date                  0\nentry-date                0\nstart-date                2\ndocument-url              0\ndtype: int64"
     },
     "metadata": {},
     "execution_count": 22
    }
   ],
   "source": [
    "lps[lps['name'].isnull()].count()"
   ]
  },
  {
   "cell_type": "code",
   "execution_count": 23,
   "metadata": {
    "tags": []
   },
   "outputs": [
    {
     "output_type": "stream",
     "name": "stdout",
     "text": "3bda3313-7fc4-41e1-ae6f-b29af6accb3c\nd877f907-b0ba-44ca-9a83-f8dbb7cf86d8\n7ec60977-d892-4a01-8b5f-3b7d175f3e6a\n0982c692-460f-4d13-8c67-cb6912ee6748\nca6713f0-530b-43df-9b3d-f291f227a9da\n45be6968-284f-4ef9-88eb-1f0a03a49c51\nca9edb36-e6c0-4f82-b472-5af6e8828069\n2ed5ae6b-8b7a-4a54-8d9f-89af587810fd\n37c09e6b-8a19-4926-b82c-082c65236689\n8464078a-b6c8-45a4-8d96-6454ad9babe0\n439dfb09-86cd-4837-9547-6c885db855ac\nff812dc1-c45d-4dce-a607-72ddeec6ffb4\n4544d998-b626-4a0f-9857-835d7dca8b86\ncb5c7478-36a7-4638-aa3b-9a61661e2f3a\naa3cac35-c06f-424e-9323-26211be4d402\naf69967a-3ec2-467a-91c7-b1ecdf098fea\ncbd8c7a3-1ae2-44cc-b226-7b06a1141f4c\ne48491e3-38dc-4b7a-9aee-0b6f4f917707\ndf77835d-91df-4acc-a426-841dd31f22fd\n"
    }
   ],
   "source": [
    "base_url = \"https://local-plans-prototype.herokuapp.com/local-plans/\"\n",
    "for index, row in lps[lps['name'].isnull()].iterrows():\n",
    "    #print(f\"{base_url}{row['organisations']}#plan_tab_{row['development-plan']}\")\n",
    "    print(row['development-plan'])"
   ]
  },
  {
   "cell_type": "code",
   "execution_count": 20,
   "metadata": {},
   "outputs": [
    {
     "output_type": "execute_result",
     "data": {
      "text/plain": "    description                      development-plan development-plan-type  \\\n22          NaN  3bda3313-7fc4-41e1-ae6f-b29af6accb3c            local-plan   \n\n    development-policies                      geographies name notes  \\\n22                   NaN  statistical-geography:E09000002  NaN   NaN   \n\n              organisations  end-date  entry-date start-date document-url  \n22  local-authority-eng:BDG       NaN         NaN        NaN          NaN  ",
      "text/html": "<div>\n<style scoped>\n    .dataframe tbody tr th:only-of-type {\n        vertical-align: middle;\n    }\n\n    .dataframe tbody tr th {\n        vertical-align: top;\n    }\n\n    .dataframe thead th {\n        text-align: right;\n    }\n</style>\n<table border=\"1\" class=\"dataframe\">\n  <thead>\n    <tr style=\"text-align: right;\">\n      <th></th>\n      <th>description</th>\n      <th>development-plan</th>\n      <th>development-plan-type</th>\n      <th>development-policies</th>\n      <th>geographies</th>\n      <th>name</th>\n      <th>notes</th>\n      <th>organisations</th>\n      <th>end-date</th>\n      <th>entry-date</th>\n      <th>start-date</th>\n      <th>document-url</th>\n    </tr>\n  </thead>\n  <tbody>\n    <tr>\n      <th>22</th>\n      <td>NaN</td>\n      <td>3bda3313-7fc4-41e1-ae6f-b29af6accb3c</td>\n      <td>local-plan</td>\n      <td>NaN</td>\n      <td>statistical-geography:E09000002</td>\n      <td>NaN</td>\n      <td>NaN</td>\n      <td>local-authority-eng:BDG</td>\n      <td>NaN</td>\n      <td>NaN</td>\n      <td>NaN</td>\n      <td>NaN</td>\n    </tr>\n  </tbody>\n</table>\n</div>"
     },
     "metadata": {},
     "execution_count": 20
    }
   ],
   "source": [
    "lps[lps['development-plan'] == \"3bda3313-7fc4-41e1-ae6f-b29af6accb3c\"]"
   ]
  },
  {
   "cell_type": "code",
   "execution_count": null,
   "metadata": {},
   "outputs": [],
   "source": []
  }
 ],
 "metadata": {
  "language_info": {
   "codemirror_mode": {
    "name": "ipython",
    "version": 3
   },
   "file_extension": ".py",
   "mimetype": "text/x-python",
   "name": "python",
   "nbconvert_exporter": "python",
   "pygments_lexer": "ipython3",
   "version": 3
  },
  "orig_nbformat": 2,
  "kernelspec": {
   "name": "python_defaultSpec_1594892486183",
   "display_name": "Python 3.6.9 64-bit ('brownfield-resources': pipenv)"
  }
 },
 "nbformat": 4,
 "nbformat_minor": 2
}